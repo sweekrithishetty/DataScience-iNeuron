{
 "cells": [
  {
   "cell_type": "markdown",
   "id": "4e0b49ea",
   "metadata": {},
   "source": [
    "## 1. Write a Python program to print \"Hello Python\"?"
   ]
  },
  {
   "cell_type": "code",
   "execution_count": null,
   "id": "fc3d4660",
   "metadata": {},
   "outputs": [],
   "source": [
    "print(\"Hello Python\")"
   ]
  },
  {
   "cell_type": "markdown",
   "id": "d21a3aed",
   "metadata": {},
   "source": [
    "## 2. Write a Python program to do arithmetical operations addition and division.?"
   ]
  },
  {
   "cell_type": "code",
   "execution_count": null,
   "id": "dc955e47",
   "metadata": {},
   "outputs": [],
   "source": [
    "first_number = float(input(\"Enter first number : \"))\n",
    "second_number = float(input(\"Enter second number: \"))\n",
    "add = first_number + second_number\n",
    "sub  = first_number - second_number\n",
    "div = first_number/second_number\n",
    "mul = first_number * second_number\n",
    "print('Addition:',add)\n",
    "print('Subtraction:',sub)\n",
    "print('Division:',div)\n",
    "print('Multiplication:',mul)"
   ]
  },
  {
   "cell_type": "markdown",
   "id": "15234c00",
   "metadata": {},
   "source": [
    "## 3. Write a Python program to find the area of a triangle?"
   ]
  },
  {
   "cell_type": "code",
   "execution_count": 7,
   "id": "7078b67d",
   "metadata": {},
   "outputs": [
    {
     "name": "stdout",
     "output_type": "stream",
     "text": [
      "Enter breadth : 3\n",
      "Enter height : 2\n",
      "Area of triangles is 3.0\n"
     ]
    }
   ],
   "source": [
    "b =  float(input(\"Enter breadth : \"))\n",
    "h =  float(input(\"Enter height : \"))\n",
    "Area = 1/2 * b * h\n",
    "print(f\"Area of triangles is {Area}\")"
   ]
  },
  {
   "cell_type": "markdown",
   "id": "be9fbcd8",
   "metadata": {},
   "source": [
    "## 4. Write a Python program to swap two variables?"
   ]
  },
  {
   "cell_type": "code",
   "execution_count": 16,
   "id": "8379edac",
   "metadata": {},
   "outputs": [
    {
     "name": "stdout",
     "output_type": "stream",
     "text": [
      "Enter first number: 3.1\n",
      "Enter second number: 2.3\n",
      "Before Swap:3.1,2.3\n",
      "After Swap:2.3,3.1\n"
     ]
    }
   ],
   "source": [
    "num_1 = float(input(\"Enter first number: \"))\n",
    "num_2 = float(input(\"Enter second number: \"))\n",
    "print(f\"Before Swap:{num_1},{num_2}\")\n",
    "temp = num_1\n",
    "num_1 = num_2\n",
    "num_2 = temp\n",
    "print(f\"After Swap:{num_1},{num_2}\")\n"
   ]
  },
  {
   "cell_type": "markdown",
   "id": "d2c70da7",
   "metadata": {},
   "source": [
    "## 5. Write a Python program to generate a random number?"
   ]
  },
  {
   "cell_type": "code",
   "execution_count": null,
   "id": "17ac0a64",
   "metadata": {},
   "outputs": [],
   "source": [
    "import random\n",
    "number = float(input(\"Enter number: \"))\n",
    "print(random.randint(0,number))"
   ]
  },
  {
   "cell_type": "code",
   "execution_count": null,
   "id": "7162be1d",
   "metadata": {},
   "outputs": [],
   "source": []
  }
 ],
 "metadata": {
  "hide_input": false,
  "kernelspec": {
   "display_name": "Python 3 (ipykernel)",
   "language": "python",
   "name": "python3"
  },
  "language_info": {
   "codemirror_mode": {
    "name": "ipython",
    "version": 3
   },
   "file_extension": ".py",
   "mimetype": "text/x-python",
   "name": "python",
   "nbconvert_exporter": "python",
   "pygments_lexer": "ipython3",
   "version": "3.9.12"
  }
 },
 "nbformat": 4,
 "nbformat_minor": 5
}
